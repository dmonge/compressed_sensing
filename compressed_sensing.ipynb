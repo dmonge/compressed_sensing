{
 "cells": [
  {
   "cell_type": "markdown",
   "id": "30199f41-1f34-473f-9bc4-73ad32a4e258",
   "metadata": {},
   "source": [
    "# Compressed sensing example: 1D"
   ]
  },
  {
   "cell_type": "markdown",
   "id": "fc3e742b-21e7-460d-9a27-90bcb8e80a1e",
   "metadata": {},
   "source": [
    "## Formulation\n",
    "\n",
    "Given a signal $x$ and a basis $\\Psi$ and a sparse vector $s$ it is said that $s$ is a sparse representation of $x$ on the basis $\\Psi$.\n",
    "The equation that relates them is:\n",
    "\n",
    "$x = \\Psi s$,\n",
    "\n",
    "where $x$ has size $n$, $\\Psi$ has dimensions $n \\times k$, and $s$ has size $k$.\n",
    "\n",
    "\n",
    "\n",
    "*Sampling:* An undersampled version of $x$ is:\n",
    "\n",
    "$y = Cx$, \n",
    "\n",
    "where $y$ is an undersampled signal of size $p$ and $C$ is a sampling matrix of dimensions $p \\times n$.\n",
    "\n",
    "The undersampled signal $y$ can be also expressed as:\n",
    "\n",
    "$y = C \\Psi s = \\Theta s$, where $\\Theta = C \\Psi$\n",
    "\n",
    "\n",
    "*Recovery*: In order to get a sparse representation $s$ of $y$ it's possible to solve the following optimization problem:\n",
    "\n",
    "$min ||s||_1$ s.t. $y = \\Theta s$.\n",
    "\n",
    "The solution $s$ is said to be the recovered sparse representation of $y$ and hopefully a good representation to reconstruct the original signal $x$.\n",
    "\n",
    "\n",
    "*Reconstruction* of $x$ is done by computing $x = \\Psi s$ using the obtained sparse vector $s$."
   ]
  },
  {
   "cell_type": "code",
   "execution_count": null,
   "id": "0fd00cce-a2ca-4f0e-859d-3fc7f0390627",
   "metadata": {},
   "outputs": [],
   "source": [
    "import matplotlib.pyplot as plt\n",
    "import numpy as np\n",
    "from icecream import ic\n",
    "import scipy\n",
    "\n",
    "from optimize import solve_l1\n",
    "from optimize import cosamp"
   ]
  },
  {
   "cell_type": "markdown",
   "id": "53db9099-fea9-4cda-afa5-7cfad55d1e4f",
   "metadata": {},
   "source": [
    "## Example problem setup"
   ]
  },
  {
   "cell_type": "code",
   "execution_count": null,
   "id": "3872a330-4e33-44d7-be7a-dcd519d7121d",
   "metadata": {},
   "outputs": [],
   "source": [
    "n = 2048\n",
    "p = 64\n",
    "k = n\n",
    "signal_dim = n\n",
    "undersampled_dim = p\n",
    "sparse_dim = k"
   ]
  },
  {
   "cell_type": "markdown",
   "id": "3e89c8bb-4e7e-4076-bfac-b036a8412ad8",
   "metadata": {},
   "source": [
    "## Signal\n",
    "$x$\n",
    "\n",
    "A sinusoidal signal."
   ]
  },
  {
   "cell_type": "code",
   "execution_count": null,
   "id": "54b7ed2c-6ea9-44bd-b3f4-6eca0dedfc3b",
   "metadata": {},
   "outputs": [],
   "source": [
    "cycle = 2 * np.pi\n",
    "t = np.linspace(0, 1, signal_dim)\n",
    "x = np.cos(t * 9 * cycle) + np.cos(t * 57 * cycle) + np.cos(t * 511 * cycle)\n",
    "plt.plot(t, x)"
   ]
  },
  {
   "cell_type": "markdown",
   "id": "51622bf9-264c-4b2a-a547-fc8a94d3b427",
   "metadata": {},
   "source": [
    "## Sample matrix\n",
    "$C$\n",
    "\n",
    "For this example, $C$ picks some measurements randomly."
   ]
  },
  {
   "cell_type": "code",
   "execution_count": null,
   "id": "d15e471c-8b5c-4d02-a3ea-009a9bafe5e0",
   "metadata": {},
   "outputs": [],
   "source": [
    "def sample_matrix(undersampled_dim, signal_dim):\n",
    "    return np.eye(signal_dim)[np.random.randint(signal_dim, size=undersampled_dim)]\n",
    "\n",
    "C = sample_matrix(undersampled_dim, signal_dim)\n",
    "plt.imshow(C)"
   ]
  },
  {
   "cell_type": "markdown",
   "id": "d6c383a6-d377-4a64-9766-03f48f647147",
   "metadata": {},
   "source": [
    "## Undersampled signal\n",
    "$y = C x$"
   ]
  },
  {
   "cell_type": "code",
   "execution_count": null,
   "id": "15dddecb-b9e1-416e-9494-2ea579dbc03d",
   "metadata": {},
   "outputs": [],
   "source": [
    "y = C @ x\n",
    "plt.plot(t, x, alpha=0.2, label='original signal')\n",
    "plt.plot(C @ t, y, '.', c='orange', label='undersampled signal')\n",
    "plt.legend()"
   ]
  },
  {
   "cell_type": "markdown",
   "id": "7ccedea4-a517-4b75-ab5e-5f531329480a",
   "metadata": {},
   "source": [
    "## Basis\n",
    "$\\Psi$\n",
    "\n",
    "For this example, $\\Psi$ is the Discrete Cosine Transform matrix."
   ]
  },
  {
   "cell_type": "code",
   "execution_count": null,
   "id": "c4afc783-b15a-4d45-a7e6-ee1af488de15",
   "metadata": {},
   "outputs": [],
   "source": [
    "Psi = scipy.fft.dct(np.eye(sparse_dim))\n",
    "plt.imshow(Psi)"
   ]
  },
  {
   "cell_type": "markdown",
   "id": "f4326241-3594-48bc-b791-8e8045a77d47",
   "metadata": {},
   "source": [
    "## Theta"
   ]
  },
  {
   "cell_type": "code",
   "execution_count": null,
   "id": "902b3982-b936-40a8-af3f-af97e7eff253",
   "metadata": {},
   "outputs": [],
   "source": [
    "Theta = C @ Psi\n",
    "plt.imshow(Theta)"
   ]
  },
  {
   "cell_type": "markdown",
   "id": "0066677c-35ed-4ff1-ba81-ae607a6d4ae7",
   "metadata": {},
   "source": [
    "## Find sparse representation $s$ of $y$\n",
    "\n",
    "Find $s$ by solving:\n",
    "\n",
    "$min ||s||_1$ s.t. $y = \\Theta s$"
   ]
  },
  {
   "cell_type": "code",
   "execution_count": null,
   "id": "f0c7a776-8f7f-40d2-ad21-bb99ce2e0bb4",
   "metadata": {},
   "outputs": [],
   "source": [
    "use_cosamp = True  # set to False for solving with SLSQP (can take a while to complete)\n",
    "\n",
    "if use_cosamp:\n",
    "    sparsity = 3  # number of sparse elements in solution\n",
    "    s = cosamp(Theta, y, sparsity, max_iter=2000)\n",
    "else:\n",
    "    solution = solve_l1(y, Theta, maxiter=1000)\n",
    "    s = solution.x\n",
    "    print(solution)"
   ]
  },
  {
   "cell_type": "code",
   "execution_count": null,
   "id": "710f5498-972a-4233-bcf6-7a761c21e664",
   "metadata": {},
   "outputs": [],
   "source": [
    "fig, (ax1, ax2) = plt.subplots(ncols=2, nrows=1)\n",
    "\n",
    "ax1.plot(s, 'red', alpha=.5)\n",
    "ax1.plot(s, '.')\n",
    "ax1.set_title('s')\n",
    "ax2.hist(s)\n",
    "ax2.set_title('histogram of s')\n",
    "plt.tight_layout()"
   ]
  },
  {
   "cell_type": "markdown",
   "id": "6c1cca88-cc28-4d75-a597-14d61d3063bb",
   "metadata": {},
   "source": [
    "### Check $s$ quality"
   ]
  },
  {
   "cell_type": "code",
   "execution_count": null,
   "id": "994cc99f-e4d9-4a2f-92b1-8c49ec46642f",
   "metadata": {},
   "outputs": [],
   "source": [
    "fig, (ax1, ax2) = plt.subplots(nrows=2)\n",
    "ax1.plot(y, label='$y$')\n",
    "ax1.plot(Theta @ s, '.', label='$\\Theta s$')\n",
    "ax1.set_title('$y$ vs. $\\Theta s$')\n",
    "ax1.legend()\n",
    "\n",
    "ax2.plot(Theta @ s - y)\n",
    "ax2.set_title('difference: $\\Theta s - y$')\n",
    "plt.tight_layout()"
   ]
  },
  {
   "cell_type": "markdown",
   "id": "ceeebb44-ff75-49c2-bd0d-48fe5830fb1e",
   "metadata": {},
   "source": [
    "## Reconstruct $x$\n",
    "\n",
    "Reconstruction of $x$ is done by computing $x = \\Psi s$ using the obtained sparse vector $s$."
   ]
  },
  {
   "cell_type": "code",
   "execution_count": null,
   "id": "ffdf3499-c39f-460f-8ac2-b06c664ad044",
   "metadata": {},
   "outputs": [],
   "source": [
    "plt.plot(t, x, alpha=0.5, label='original signal')\n",
    "plt.plot(C @ t, y, '.', c='orange', label='undersampled signal')\n",
    "plt.plot(t, Psi @ s, c='green', label='recovered signal')\n",
    "plt.legend()"
   ]
  },
  {
   "cell_type": "code",
   "execution_count": null,
   "id": "0f5eb160-497f-48f3-83dc-9ee476304d1a",
   "metadata": {},
   "outputs": [],
   "source": [
    "# zoom\n",
    "y = C @ x\n",
    "_s = np.s_[:64]\n",
    "plt.plot(t[_s], x[_s], alpha=0.5, label='original signal')\n",
    "plt.plot(t[_s], (Psi @ s)[_s], c='green', label='recovered signal')\n",
    "plt.legend()"
   ]
  }
 ],
 "metadata": {
  "kernelspec": {
   "display_name": "Python 3 (ipykernel)",
   "language": "python",
   "name": "python3"
  },
  "language_info": {
   "codemirror_mode": {
    "name": "ipython",
    "version": 3
   },
   "file_extension": ".py",
   "mimetype": "text/x-python",
   "name": "python",
   "nbconvert_exporter": "python",
   "pygments_lexer": "ipython3",
   "version": "3.10.12"
  }
 },
 "nbformat": 4,
 "nbformat_minor": 5
}
